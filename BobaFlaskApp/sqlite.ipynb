{
 "cells": [
  {
   "cell_type": "code",
   "execution_count": 19,
   "id": "8251890c",
   "metadata": {},
   "outputs": [
    {
     "name": "stdout",
     "output_type": "stream",
     "text": [
      "Database created and Successfully Connected to SQLite\n"
     ]
    },
    {
     "data": {
      "text/plain": [
       "[('vCEc52697fPzYGh_bzS29A',\n",
       "  'Gong Cha',\n",
       "  '75 Middlesex Turnpike, Ste 2115',\n",
       "  'Burlington',\n",
       "  'MA',\n",
       "  3.5,\n",
       "  '75 Middlesex Turnpike, Ste 2115'),\n",
       " ('9Ih-4eMu4qaOL0E05JrOwA',\n",
       "  'Kung Fu Tea',\n",
       "  '1916 Beacon St',\n",
       "  'Brighton',\n",
       "  'MA',\n",
       "  4.0,\n",
       "  '1916 Beacon St')]"
      ]
     },
     "execution_count": 19,
     "metadata": {},
     "output_type": "execute_result"
    }
   ],
   "source": [
    "import sqlite3\n",
    "sqliteConnection = sqlite3.connect('boba_data.db')\n",
    "cursor = sqliteConnection.cursor()\n",
    "print(\"Database created and Successfully Connected to SQLite\")\n",
    "\n",
    "sqlite_select_Query = \"select * from businesses;\"\n",
    "cursor.execute(sqlite_select_Query).fetchall()"
   ]
  },
  {
   "cell_type": "code",
   "execution_count": 14,
   "id": "0138972d",
   "metadata": {},
   "outputs": [
    {
     "name": "stdout",
     "output_type": "stream",
     "text": [
      "Database created and Successfully Connected to SQLite\n",
      "CPU times: user 7.45 ms, sys: 13.1 ms, total: 20.5 ms\n",
      "Wall time: 34.2 ms\n"
     ]
    }
   ],
   "source": [
    "%%time\n",
    "sqliteConnection = sqlite3.connect('../../yelp.db')\n",
    "cursor = sqliteConnection.cursor()\n",
    "print(\"Database created and Successfully Connected to SQLite\")\n",
    "\n",
    "query = \"\"\"WITH close_businesses AS (SELECT \n",
    "                business_id,\n",
    "                name,\n",
    "                address,\n",
    "                city,\n",
    "                state,\n",
    "                stars,\n",
    "                review_count,\n",
    "                distance_to_cambridge\n",
    "            FROM businesses\n",
    "            WHERE distance_to_cambridge < 10\n",
    "            AND categories LIKE \"%Bubble Tea%\"\n",
    "            )\n",
    "            SELECT\n",
    "                close_businesses.business_id,\n",
    "                name,\n",
    "                address,\n",
    "                city,\n",
    "                state,\n",
    "                close_businesses.stars as overall_star,\n",
    "                review_count\n",
    "            FROM close_businesses\n",
    "            \"\"\"\n",
    "res = cursor.execute(query).fetchmany(size=10)"
   ]
  }
 ],
 "metadata": {
  "kernelspec": {
   "display_name": "Python 3 (ipykernel)",
   "language": "python",
   "name": "python3"
  },
  "language_info": {
   "codemirror_mode": {
    "name": "ipython",
    "version": 3
   },
   "file_extension": ".py",
   "mimetype": "text/x-python",
   "name": "python",
   "nbconvert_exporter": "python",
   "pygments_lexer": "ipython3",
   "version": "3.9.4"
  }
 },
 "nbformat": 4,
 "nbformat_minor": 5
}
