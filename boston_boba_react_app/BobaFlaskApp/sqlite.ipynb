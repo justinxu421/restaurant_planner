{
 "cells": [
  {
   "cell_type": "code",
   "execution_count": 8,
   "id": "8251890c",
   "metadata": {},
   "outputs": [
    {
     "name": "stdout",
     "output_type": "stream",
     "text": [
      "Database created and Successfully Connected to SQLite\n"
     ]
    },
    {
     "data": {
      "text/plain": [
       "[]"
      ]
     },
     "execution_count": 8,
     "metadata": {},
     "output_type": "execute_result"
    }
   ],
   "source": [
    "import sqlite3\n",
    "sqliteConnection = sqlite3.connect('boba_data.db')\n",
    "cursor = sqliteConnection.cursor()\n",
    "print(\"Database created and Successfully Connected to SQLite\")\n",
    "\n",
    "sqlite_select_Query = \"select * from boston_boba_businesses;\"\n",
    "cursor.execute(sqlite_select_Query).fetchall()"
   ]
  },
  {
   "cell_type": "code",
   "execution_count": null,
   "id": "0138972d",
   "metadata": {},
   "outputs": [],
   "source": [
    "import sqlite3\n",
    "sqliteConnection = sqlite3.connect('../../yelp.db')\n",
    "cursor = sqliteConnection.cursor()\n",
    "print(\"Database created and Successfully Connected to SQLite\")\n",
    "\n",
    "sqlite_select_Query = \"select * from ;\"\n",
    "cursor.execute(sqlite_select_Query).fetchall()"
   ]
  },
  {
   "cell_type": "code",
   "execution_count": null,
   "id": "b6872f3a",
   "metadata": {},
   "outputs": [],
   "source": [
    "from sqlalchemy import create_engine\n",
    "engine = create_engine(\"sqlite:///yelp.db\", echo=False)\n",
    "y.to_sql(\"drink_reviews\", con=engine, if_exists='append')"
   ]
  }
 ],
 "metadata": {
  "kernelspec": {
   "display_name": "Python 3 (ipykernel)",
   "language": "python",
   "name": "python3"
  },
  "language_info": {
   "codemirror_mode": {
    "name": "ipython",
    "version": 3
   },
   "file_extension": ".py",
   "mimetype": "text/x-python",
   "name": "python",
   "nbconvert_exporter": "python",
   "pygments_lexer": "ipython3",
   "version": "3.9.4"
  }
 },
 "nbformat": 4,
 "nbformat_minor": 5
}
