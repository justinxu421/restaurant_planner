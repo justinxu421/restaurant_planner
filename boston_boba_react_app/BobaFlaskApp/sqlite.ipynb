{
 "cells": [
  {
   "cell_type": "code",
   "execution_count": 6,
   "id": "8251890c",
   "metadata": {},
   "outputs": [
    {
     "name": "stdout",
     "output_type": "stream",
     "text": [
      "Database created and Successfully Connected to SQLite\n"
     ]
    },
    {
     "data": {
      "text/plain": [
       "[]"
      ]
     },
     "execution_count": 6,
     "metadata": {},
     "output_type": "execute_result"
    }
   ],
   "source": [
    "import sqlite3\n",
    "sqliteConnection = sqlite3.connect('boba_data.db')\n",
    "cursor = sqliteConnection.cursor()\n",
    "print(\"Database created and Successfully Connected to SQLite\")\n",
    "\n",
    "sqlite_select_Query = \"select * from businesses;\"\n",
    "cursor.execute(sqlite_select_Query).fetchall()"
   ]
  },
  {
   "cell_type": "code",
   "execution_count": 14,
   "id": "0138972d",
   "metadata": {},
   "outputs": [
    {
     "name": "stdout",
     "output_type": "stream",
     "text": [
      "Database created and Successfully Connected to SQLite\n",
      "CPU times: user 7.45 ms, sys: 13.1 ms, total: 20.5 ms\n",
      "Wall time: 34.2 ms\n"
     ]
    }
   ],
   "source": [
    "%%time\n",
    "sqliteConnection = sqlite3.connect('../../yelp.db')\n",
    "cursor = sqliteConnection.cursor()\n",
    "print(\"Database created and Successfully Connected to SQLite\")\n",
    "\n",
    "query = \"\"\"WITH close_businesses AS (SELECT \n",
    "                business_id,\n",
    "                name,\n",
    "                address,\n",
    "                city,\n",
    "                state,\n",
    "                stars,\n",
    "                review_count,\n",
    "                distance_to_cambridge\n",
    "            FROM businesses\n",
    "            WHERE distance_to_cambridge < 10\n",
    "            AND categories LIKE \"%Bubble Tea%\"\n",
    "            )\n",
    "            SELECT\n",
    "                close_businesses.business_id,\n",
    "                name,\n",
    "                address,\n",
    "                city,\n",
    "                state,\n",
    "                close_businesses.stars as overall_star,\n",
    "                review_count\n",
    "            FROM close_businesses\n",
    "            \"\"\"\n",
    "res = cursor.execute(query).fetchmany(size=10)"
   ]
  },
  {
   "cell_type": "code",
   "execution_count": 18,
   "id": "0cbfeae4",
   "metadata": {},
   "outputs": [
    {
     "name": "stdout",
     "output_type": "stream",
     "text": [
      "8xNY-EwTl6j1Wp4XcBZg8Q Dumpling Daughter 37 Center St Weston MA 4.0 339\n",
      "9Ih-4eMu4qaOL0E05JrOwA Kung Fu Tea 1916 Beacon St Brighton MA 4.0 97\n",
      "N6euK1sd4ktlpp1nFdORAQ Hearty Teriyaki Newton 67 Crafts St Newton MA 4.5 77\n",
      "MqvMaY-0nmmZYf0B7tDBbQ Boba Me 1520 Tremont St Boston MA 4.5 50\n",
      "P6u9VBwU20tkfEKIlmrOTA Patty Chen's Dumpling Room 907 Main St Cambridge MA 3.0 200\n",
      "ch1ercqwoNLpQLxpTb90KQ Boston Tea Stop 54 Jfk St Cambridge MA 3.5 494\n",
      "bwZlXQ3FPFWmewJupcOcAQ Tsaocaa 10A Tyler St Boston MA 3.5 23\n",
      "xyhdMsjlGJdRpn-TvNnj0A Chatime 145 Brighton Ave Allston MA 2.0 69\n",
      "b5WsI1opmIyQPoUhT6VrwA Mala Kungfu 155 Brighton Ave Allston MA 3.0 115\n",
      "T-hi9Q0TZArbK5EITTClDw Beard Papa's 145 Brighton Ave Boston MA 3.5 82\n"
     ]
    }
   ],
   "source": [
    "for row in res:\n",
    "    print(*row)"
   ]
  },
  {
   "cell_type": "code",
   "execution_count": null,
   "id": "b6872f3a",
   "metadata": {},
   "outputs": [],
   "source": [
    "from sqlalchemy import create_engine\n",
    "engine = create_engine(\"sqlite:///yelp.db\", echo=False)\n",
    "y.to_sql(\"drink_reviews\", con=engine, if_exists='append')"
   ]
  }
 ],
 "metadata": {
  "kernelspec": {
   "display_name": "Python 3 (ipykernel)",
   "language": "python",
   "name": "python3"
  },
  "language_info": {
   "codemirror_mode": {
    "name": "ipython",
    "version": 3
   },
   "file_extension": ".py",
   "mimetype": "text/x-python",
   "name": "python",
   "nbconvert_exporter": "python",
   "pygments_lexer": "ipython3",
   "version": "3.9.4"
  }
 },
 "nbformat": 4,
 "nbformat_minor": 5
}
