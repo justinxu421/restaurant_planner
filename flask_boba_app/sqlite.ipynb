{
 "cells": [
  {
   "cell_type": "code",
   "execution_count": 31,
   "id": "8251890c",
   "metadata": {},
   "outputs": [
    {
     "name": "stdout",
     "output_type": "stream",
     "text": [
      "Database created and Successfully Connected to SQLite\n"
     ]
    },
    {
     "data": {
      "text/plain": [
       "[('mrXJWyB5ZneRfzgBprctVQ',\n",
       "  'OneZo',\n",
       "  '19 Billings Rd',\n",
       "  'Quincy',\n",
       "  'MA',\n",
       "  3.5,\n",
       "  '19 Billings Rd'),\n",
       " ('vCEc52697fPzYGh_bzS29A',\n",
       "  'Gong Cha',\n",
       "  '75 Middlesex Turnpike, Ste 2115',\n",
       "  'Burlington',\n",
       "  'MA',\n",
       "  3.5,\n",
       "  '75 Middlesex Turnpike, Ste 2115')]"
      ]
     },
     "execution_count": 31,
     "metadata": {},
     "output_type": "execute_result"
    }
   ],
   "source": [
    "import sqlite3\n",
    "sqliteConnection = sqlite3.connect('boba_data.db')\n",
    "cursor = sqliteConnection.cursor()\n",
    "print(\"Database created and Successfully Connected to SQLite\")\n",
    "\n",
    "sqlite_select_Query = \"select * from businesses;\"\n",
    "cursor.execute(sqlite_select_Query).fetchall()"
   ]
  },
  {
   "cell_type": "code",
   "execution_count": 2,
   "id": "0138972d",
   "metadata": {},
   "outputs": [
    {
     "name": "stdout",
     "output_type": "stream",
     "text": [
      "CPU times: user 28 ms, sys: 44.3 ms, total: 72.3 ms\n",
      "Wall time: 218 ms\n"
     ]
    }
   ],
   "source": [
    "%%time\n",
    "import sqlite3\n",
    "conn = sqlite3.connect('../yelp.db')\n",
    "c = conn.cursor()\n",
    "c.execute('ATTACH DATABASE \"boba_data.db\" AS boba_db')\n",
    "\n",
    "query = \"\"\"INSERT OR REPLACE INTO \n",
    "            boba_db.businesses (business_id, name, address, city, state, overall_star, review_count)\n",
    "            SELECT \n",
    "                business_id,\n",
    "                name,\n",
    "                address,\n",
    "                city,\n",
    "                state,\n",
    "                stars as overall_star,\n",
    "                review_count\n",
    "            FROM businesses\n",
    "            WHERE distance_to_cambridge < 20\n",
    "            AND categories LIKE \"%Bubble Tea%\"\n",
    "            \"\"\"\n",
    "c.execute(query).fetchall()\n",
    "# c.execute('select * from boba_db.businesses').fetchall()\n",
    "conn.commit()"
   ]
  }
 ],
 "metadata": {
  "kernelspec": {
   "display_name": "Python 3 (ipykernel)",
   "language": "python",
   "name": "python3"
  },
  "language_info": {
   "codemirror_mode": {
    "name": "ipython",
    "version": 3
   },
   "file_extension": ".py",
   "mimetype": "text/x-python",
   "name": "python",
   "nbconvert_exporter": "python",
   "pygments_lexer": "ipython3",
   "version": "3.9.4"
  }
 },
 "nbformat": 4,
 "nbformat_minor": 5
}
